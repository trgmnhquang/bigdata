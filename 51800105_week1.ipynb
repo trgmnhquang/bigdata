{
  "nbformat": 4,
  "nbformat_minor": 0,
  "metadata": {
    "colab": {
      "name": "Untitled0.ipynb",
      "provenance": [],
      "collapsed_sections": []
    },
    "kernelspec": {
      "name": "python3",
      "display_name": "Python 3"
    }
  },
  "cells": [
    {
      "cell_type": "code",
      "metadata": {
        "colab": {
          "base_uri": "https://localhost:8080/"
        },
        "id": "A4UPEbl6_Dd1",
        "outputId": "640df69b-8809-4319-a3a0-1d952beb440a"
      },
      "source": [
        "!pip install pyspark\r\n",
        "\r\n",
        "from pyspark import SparkConf, SparkContext\r\n",
        "import collections\r\n",
        "\r\n",
        "conf = SparkConf().setMaster(\"local\").setAppName(\"word counting\")\r\n",
        "#sc = SparkContext(conf = conf)\r\n",
        "sc = SparkContext.getOrCreate(conf = conf)\r\n"
      ],
      "execution_count": 2,
      "outputs": [
        {
          "output_type": "stream",
          "text": [
            "Collecting pyspark\n",
            "\u001b[?25l  Downloading https://files.pythonhosted.org/packages/f0/26/198fc8c0b98580f617cb03cb298c6056587b8f0447e20fa40c5b634ced77/pyspark-3.0.1.tar.gz (204.2MB)\n",
            "\u001b[K     |████████████████████████████████| 204.2MB 69kB/s \n",
            "\u001b[?25hCollecting py4j==0.10.9\n",
            "\u001b[?25l  Downloading https://files.pythonhosted.org/packages/9e/b6/6a4fb90cd235dc8e265a6a2067f2a2c99f0d91787f06aca4bcf7c23f3f80/py4j-0.10.9-py2.py3-none-any.whl (198kB)\n",
            "\u001b[K     |████████████████████████████████| 204kB 50.3MB/s \n",
            "\u001b[?25hBuilding wheels for collected packages: pyspark\n",
            "  Building wheel for pyspark (setup.py) ... \u001b[?25l\u001b[?25hdone\n",
            "  Created wheel for pyspark: filename=pyspark-3.0.1-py2.py3-none-any.whl size=204612242 sha256=3508469bcb8c92be198ed0550425e1b083d1af2cec26f9a5b242296bf0cde4bd\n",
            "  Stored in directory: /root/.cache/pip/wheels/5e/bd/07/031766ca628adec8435bb40f0bd83bb676ce65ff4007f8e73f\n",
            "Successfully built pyspark\n",
            "Installing collected packages: py4j, pyspark\n",
            "Successfully installed py4j-0.10.9 pyspark-3.0.1\n"
          ],
          "name": "stdout"
        }
      ]
    },
    {
      "cell_type": "code",
      "metadata": {
        "colab": {
          "base_uri": "https://localhost:8080/"
        },
        "id": "kNQ6kbGptW4G",
        "outputId": "fd646c17-5184-44c0-e884-538b7cf0102d"
      },
      "source": [
        "from pyspark import SparkContext, SparkConf\r\n",
        "conf = SparkConf().setMaster(\"local\").setAppName(\"word counting\")\r\n",
        "sc = SparkContext.getOrCreate(conf = conf)\r\n",
        "\r\n",
        "files = (sc.textFile('/content/text.txt').map(lambda line: line.split(' ')))\r\n",
        "fileContent = files.reduce(lambda x: 1)\r\n",
        "rdd = sc.parallelize(fileContent)\r\n",
        "wrds = rdd.map(lambda word: (word, 1))\r\n",
        "print(\"Số từ trong văn bản:\", wrds.count())\r\n",
        "red = wrds.reduceByKey(lambda x,y: x+y)\r\n",
        "max = red.reduce(lambda x, y: x if x[1] > y[1] else y)\r\n",
        "res = ', '.join(map(str, [x[0] for x in red.collect() if (x[1] == max[1])]))\r\n",
        "print(\"Các từ '\" + res + \"' có tần suất xuất hiện nhiều nhất với \" +str(max[1]) + \" lần\")"
      ],
      "execution_count": 46,
      "outputs": [
        {
          "output_type": "stream",
          "text": [
            "Số từ trong văn bản: 110\n",
            "Các từ 'Spark, được' có tần suất xuất hiện nhiều nhất với 5 lần\n"
          ],
          "name": "stdout"
        }
      ]
    }
  ]
}