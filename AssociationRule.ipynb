{
  "nbformat": 4,
  "nbformat_minor": 0,
  "metadata": {
    "colab": {
      "name": "AssociationRule.ipynb",
      "provenance": [],
      "collapsed_sections": []
    },
    "kernelspec": {
      "name": "python3",
      "display_name": "Python 3"
    }
  },
  "cells": [
    {
      "cell_type": "code",
      "metadata": {
        "id": "3IMPGhfOhixQ",
        "colab": {
          "base_uri": "https://localhost:8080/"
        },
        "outputId": "5515d25f-5c9d-4e05-d9bc-ce90df9e9973"
      },
      "source": [
        "!pip install pyspark\n",
        "from pyspark import SparkConf, SparkContext\n",
        "from itertools import permutations\n",
        "import collections\n",
        "import csv\n",
        "import time\n",
        "\n",
        "conf = SparkConf().setMaster('local').setAppName('AprioriAlgorithm')\n",
        "sc = SparkContext.getOrCreate(conf = conf)"
      ],
      "execution_count": null,
      "outputs": [
        {
          "output_type": "stream",
          "text": [
            "Requirement already satisfied: pyspark in /usr/local/lib/python3.7/dist-packages (3.0.2)\n",
            "Requirement already satisfied: py4j==0.10.9 in /usr/local/lib/python3.7/dist-packages (from pyspark) (0.10.9)\n"
          ],
          "name": "stdout"
        }
      ]
    },
    {
      "cell_type": "code",
      "metadata": {
        "colab": {
          "base_uri": "https://localhost:8080/"
        },
        "id": "D24XxGwuMVZR",
        "outputId": "cfde2f70-cb71-4958-f775-5a274ef6103a"
      },
      "source": [
        "file = sc.textFile('store_data.csv')\n",
        "\n",
        "start_time = time.time()\n",
        "\n",
        "files = file.mapPartitions(lambda line: csv.reader(line))\n",
        "items = file.flatMap(lambda line: line.split(',')) #[(A, B), (C)] -> [A, B, C]\n",
        "#print(items.collect())\n",
        "uniItems = items.distinct()\n",
        "wrds = items.map(lambda word: (word, 1))\n",
        "rdd = wrds.reduceByKey(lambda x,y: x+y)\n",
        "print(rdd.collect())\n",
        "\n",
        "minSupport = 150\n",
        "supportRdd = rdd.filter(lambda x: x[1] >= minSupport)\n",
        "baseRdd = supportRdd.map(lambda x: ([x[0]], x[1]))\n",
        "print('1 table created')\n",
        "\n",
        "supportRdd = supportRdd.map(lambda x: x[0])\n",
        "rddCart = supportRdd\n",
        "\n",
        "def removeDuplicatedItems(item): #(A,B) = (B,A), (c,c) -> (c)\n",
        "  if (isinstance(item[0], tuple)):\n",
        "    x = item[0]\n",
        "    y = item[1]\n",
        "  else:\n",
        "    x = [item[0]]\n",
        "    y = item[1]\n",
        "  if (any(i == y for i in x) == False):\n",
        "    temp = list(x)\n",
        "    temp.append(y)\n",
        "    temp.sort()\n",
        "    result = tuple(temp)\n",
        "    return result\n",
        "  else:\n",
        "    return x\n",
        "\n",
        "combination_length = 2\n",
        "while (supportRdd.isEmpty() == False):\n",
        "  combined = supportRdd.cartesian(uniItems) #Combined with uniqueItems\n",
        "  combined = combined.map(lambda item: removeDuplicatedItems(item))\n",
        "\n",
        "  combined = combined.filter(lambda item: len(item) == combination_length)\n",
        "  combined = combined.distinct() #Remove duplication\n",
        "\n",
        "  combined2 = combined.cartesian(files)\n",
        "  combined2 = combined2.filter(lambda item: all(x in item[1] for x in item[0]))\n",
        "\n",
        "  combined2 = combined2.map(lambda item: item[0])\n",
        "  combined2 = combined2.map(lambda item: (item, 1))\n",
        "  combined2 = combined2.reduceByKey(lambda x,y: x+y)\n",
        "  combined2 = combined2.filter(lambda item: item[1] >= minSupport)\n",
        "\n",
        "  baseRdd = baseRdd.union(combined2)\n",
        "  combined2 = combined2.map(lambda item: item[0])\n",
        "  supportRdd = combined2\n",
        "  \n",
        "  combination_length +=1\n",
        "\n",
        "  print(str(combination_length-1) +' table created')\n",
        "\n",
        "class Filter():\n",
        "  def __init__(self):\n",
        "    self.stages = 1\n",
        "  \n",
        "  def calculateItemSet(self, a, b):\n",
        "    if (len(a) > len(b)):\n",
        "      return all(any(i == y for i in a) for y in b)\n",
        "    else:\n",
        "      return all(any(i == y for i in b) for y in a)\n",
        "\n",
        "  def filterForConf(self, item, total): #tạo tập hợp riêng biệt từng cặp, mỗi cặp là 1 rule-\n",
        "    if (len(item[0][0]) > len(item[1][0])):\n",
        "      if (self.calculateItemSet(item[0][0], item[1][0]) == False):\n",
        "        pass\n",
        "      else:\n",
        "        return (item)\n",
        "    else:\n",
        "      pass\n",
        "    self.stages = self.stages + 1\n",
        "\n",
        "  def calculateConfidence(self, item):\n",
        "    parent = set(item[0][0])\n",
        "\n",
        "    if (isinstance(item[1][0], str)):\n",
        "      child = set([item[1][0]])\n",
        "    else:\n",
        "      child = set(item[1][0])\n",
        "\n",
        "    pSup = item[0][1]\n",
        "    chSup = item[1][1]\n",
        "    sup = (pSup / chSup) \n",
        "    return list([list(child), list(parent.difference(child)), sup])\n",
        "\n",
        "calculatedItems = baseRdd.cartesian(baseRdd)\n",
        "fo = Filter()\n",
        "total = calculatedItems.count()\n",
        "rddConfidence = calculatedItems.filter(lambda item: fo.filterForConf(item, total))\n",
        "rddConfidence = rddConfidence.map(lambda item: fo.calculateConfidence(item))\n",
        "rddConfidence = rddConfidence.filter(lambda item: item[-1] >= 0.2)\n",
        "\n",
        "\n",
        "print(rddConfidence.collect())\n",
        "end_time = time.time()\n",
        "print('Tong thoi gian: ', end_time-start_time)"
      ],
      "execution_count": null,
      "outputs": [
        {
          "output_type": "stream",
          "text": [
            "[('shrimp', 536), ('almonds', 153), ('avocado', 250), ('vegetables mix', 193), ('green grapes', 68), ('whole weat flour', 70), ('yams', 86), ('cottage cheese', 239), ('energy drink', 200), ('tomato juice', 228), ('low fat yogurt', 574), ('green tea', 991), ('honey', 356), ('salad', 37), ('mineral water', 1788), ('salmon', 319), ('antioxydant juice', 67), ('frozen smoothie', 475), ('spinach', 53), ('olive oil', 494), ('burgers', 654), ('meatballs', 157), ('eggs', 1348), ('chutney', 31), ('turkey', 469), ('milk', 972), ('energy bar', 203), ('whole wheat rice', 439), ('whole wheat pasta', 221), ('french fries', 1282), ('soup', 379), ('light cream', 117), ('shallot', 58), ('frozen vegetables', 715), ('spaghetti', 1306), ('pet food', 49), ('cookies', 603), ('cooking oil', 383), ('champagne', 351), ('chocolate', 1230), ('chicken', 450), ('oil', 173), ('fresh tuna', 167), ('tomatoes', 513), ('black tea', 107), ('extra dark chocolate', 90), ('protein bar', 139), ('red wine', 211), ('pasta', 118), ('pepper', 199), ('shampoo', 37), ('rice', 141), ('sparkling water', 47), ('ham', 203), ('body spray', 86), ('pancakes', 713), ('grated cheese', 393), ('white wine', 124), ('toothpaste', 61), ('parmesan cheese', 149), ('fresh bread', 323), ('ground beef', 737), ('escalope', 595), ('herb & pepper', 371), ('tomato sauce', 106), ('magazines', 82), ('strawberries', 160), ('strong cheese', 58), ('pickles', 45), ('cake', 608), ('hot dogs', 243), ('brownies', 253), ('cereals', 193), ('clothes accessories', 63), ('bug spray', 65), ('muffins', 181), ('light mayo', 204), ('gums', 101), ('soda', 47), ('cider', 79), ('corn', 36), ('yogurt cake', 205), ('mint', 131), ('butter', 226), ('asparagus', 35), ('french wine', 169), ('salt', 69), ('tea', 29), ('barbecue sauce', 81), ('mayonnaise', 46), ('zucchini', 71), ('carrots', 115), ('mushroom cream sauce', 143), ('candy bars', 73), ('chili', 46), ('mashed potato', 31), ('nonfat milk', 78), ('water spray', 3), ('chocolate bread', 32), ('mint green tea', 42), ('eggplant', 99), ('blueberries', 69), ('bacon', 65), ('fromage blanc', 102), ('gluten free bar', 52), ('dessert wine', 33), ('flax seed', 68), ('hand protein bar', 39), ('sandwich', 34), ('babies food', 34), ('melons', 90), ('cauliflower', 36), ('green beans', 65), ('ketchup', 33), ('bramble', 14), ('burger sauce', 44), ('oatmeal', 33), (' asparagus', 1), ('cream', 7), ('napkins', 5)]\n",
            "1 table created\n",
            "2 table created\n",
            "3 table created\n",
            "[[['shrimp'], ['mineral water'], 0.3302238805970149], [['shrimp'], ['spaghetti'], 0.2966417910447761], [['low fat yogurt'], ['mineral water'], 0.313588850174216], [['green tea'], ['mineral water'], 0.23511604439959638], [['frozen smoothie'], ['mineral water'], 0.32], [['olive oil'], ['mineral water'], 0.4190283400809717], [['burgers'], ['eggs'], 0.3302752293577982], [['mineral water'], ['milk'], 0.20134228187919462], [['burgers'], ['mineral water'], 0.2798165137614679], [['mineral water'], ['eggs'], 0.21364653243847875], [['green tea'], ['spaghetti'], 0.20080726538849647], [['green tea'], ['french fries'], 0.21594349142280525], [['milk'], ['mineral water'], 0.37037037037037035], [['whole wheat rice'], ['mineral water'], 0.3439635535307517], [['eggs'], ['mineral water'], 0.28338278931750743], [['soup'], ['mineral water'], 0.45646437994722955], [['burgers'], ['french fries'], 0.25229357798165136], [['mineral water'], ['spaghetti'], 0.2505592841163311], [['mineral water'], ['chocolate'], 0.220917225950783], [['cooking oil'], ['mineral water'], 0.39425587467362927], [['frozen vegetables'], ['mineral water'], 0.3748251748251748], [['spaghetti'], ['mineral water'], 0.3430321592649311], [['chocolate'], ['mineral water'], 0.32113821138211385], [['chicken'], ['mineral water'], 0.38], [['eggs'], ['french fries'], 0.20252225519287834], [['french fries'], ['eggs'], 0.21294851794071762], [['eggs'], ['spaghetti'], 0.2032640949554896], [['spaghetti'], ['eggs'], 0.20980091883614088], [['milk'], ['spaghetti'], 0.2736625514403292], [['spaghetti'], ['milk'], 0.20367534456355282], [['chocolate'], ['eggs'], 0.20243902439024392], [['tomatoes'], ['mineral water'], 0.3567251461988304], [['pancakes'], ['mineral water'], 0.3548387096774194], [['ground beef'], ['mineral water'], 0.41655359565807326], [['olive oil'], ['spaghetti'], 0.3481781376518219], [['burgers'], ['spaghetti'], 0.24617737003058104], [['french fries'], ['chocolate'], 0.20124804992199688], [['chocolate'], ['french fries'], 0.2097560975609756], [['frozen vegetables'], ['milk'], 0.24755244755244754], [['milk'], ['chocolate'], 0.24794238683127573], [['milk'], ['eggs'], 0.23765432098765432], [['frozen vegetables'], ['eggs'], 0.22797202797202798], [['frozen vegetables'], ['spaghetti'], 0.2923076923076923], [['spaghetti'], ['ground beef'], 0.225114854517611], [['frozen vegetables'], ['chocolate'], 0.24055944055944056], [['spaghetti'], ['chocolate'], 0.225114854517611], [['chocolate'], ['spaghetti'], 0.23902439024390243], [['ground beef'], ['milk'], 0.22388059701492538], [['cake'], ['mineral water'], 0.33881578947368424], [['pancakes'], ['eggs'], 0.22861150070126227], [['ground beef'], ['eggs'], 0.20352781546811397], [['tomatoes'], ['spaghetti'], 0.3060428849902534], [['pancakes'], ['spaghetti'], 0.2650771388499299], [['ground beef'], ['spaghetti'], 0.3989145183175034], [['pancakes'], ['french fries'], 0.211781206171108], [['ground beef'], ['chocolate'], 0.23473541383989144]]\n",
            "Tong thoi gian:  74.35846710205078\n"
          ],
          "name": "stdout"
        }
      ]
    }
  ]
}