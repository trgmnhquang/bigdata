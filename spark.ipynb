{
  "nbformat": 4,
  "nbformat_minor": 0,
  "metadata": {
    "colab": {
      "name": "spark.ipynb",
      "provenance": [],
      "collapsed_sections": []
    },
    "kernelspec": {
      "name": "python3",
      "display_name": "Python 3"
    }
  },
  "cells": [
    {
      "cell_type": "markdown",
      "metadata": {
        "id": "5CGC2zoFzv-1"
      },
      "source": [
        "\n",
        "\n",
        "Spark RDD\n",
        "\n",
        "\n",
        "\n"
      ]
    },
    {
      "cell_type": "code",
      "metadata": {
        "id": "dOAQCgeYznK8"
      },
      "source": [
        "!pip install pyspark\n",
        "from pyspark import SparkConf, SparkContext\n",
        "import collections\n",
        "\n",
        "conf = SparkConf().setMaster(\"local\").setAppName(\"Word Counting Example\")\n",
        "sc = SparkContext.getOrCreate(conf = conf)\n",
        "text_File = sc.textFile('/content/example.txt')"
      ],
      "execution_count": null,
      "outputs": []
    },
    {
      "cell_type": "code",
      "metadata": {
        "id": "Shqb27Cig6lS",
        "colab": {
          "base_uri": "https://localhost:8080/"
        },
        "outputId": "37493c85-7ce8-4719-b970-2dff1741fc7d"
      },
      "source": [
        "files = (text_File.map(lambda line: line.split(' '))).reduce(lambda x: 1)\n",
        "words = (sc.parallelize(files)).map(lambda word: (word, 1))\n",
        "print(words.collect())\n"
      ],
      "execution_count": 5,
      "outputs": [
        {
          "output_type": "stream",
          "text": [
            "[('một', 1), ('một', 1), ('một', 1), ('một', 1), ('một', 1), ('hai', 1), ('ba', 1), ('bốn', 1), ('năm', 1), ('sáu', 1)]\n"
          ],
          "name": "stdout"
        }
      ]
    },
    {
      "cell_type": "code",
      "metadata": {
        "colab": {
          "base_uri": "https://localhost:8080/"
        },
        "id": "wL76Sj3ZzXh9",
        "outputId": "b8e9670b-e78b-4ee8-d817-b9170f8e2da3"
      },
      "source": [
        "counts = words.count()\n",
        "print(\"Văn bản trên có \" + str(counts) + \" từ\")\n"
      ],
      "execution_count": 6,
      "outputs": [
        {
          "output_type": "stream",
          "text": [
            "Văn bản trên có 10 từ\n"
          ],
          "name": "stdout"
        }
      ]
    },
    {
      "cell_type": "code",
      "metadata": {
        "colab": {
          "base_uri": "https://localhost:8080/"
        },
        "id": "iDevkst-zTDm",
        "outputId": "46e16c5b-98bd-445b-e754-4a3b47ee98f0"
      },
      "source": [
        "words = words.reduceByKey(lambda x, y: x+y)\n",
        "mostWords = (words.reduce(lambda a, b: a if a[1] > b[1] else b))\n",
        "max = mostWords[1]\n",
        "mostWord = [i for i in words.collect() if i[1] == max]\n",
        "print(\"Từ xuất hiện nhiều nhất là: \")\n",
        "print(mostWord)"
      ],
      "execution_count": 7,
      "outputs": [
        {
          "output_type": "stream",
          "text": [
            "Từ xuất hiện nhiều nhất là: \n",
            "[('một', 5)]\n"
          ],
          "name": "stdout"
        }
      ]
    },
    {
      "cell_type": "code",
      "metadata": {
        "colab": {
          "base_uri": "https://localhost:8080/"
        },
        "id": "Dvx4vvTl0D1V",
        "outputId": "e2d3000e-8c50-40fb-c883-a14e3764367b"
      },
      "source": [
        "import pyspark\n",
        "import collections\n",
        "from pyspark import SparkConf, SparkContext\n",
        "from pyspark.sql import SparkSession\n",
        "\n",
        "spark = SparkSession.builder.master(\"local[2]\").appName(\"Word Counting\").getOrCreate()\n",
        "number = [('One', 1), ('Two', 2), ('Three', 3)]\n",
        "rdd = spark.sparkContext.parallelize(number)\n",
        "count = rdd.reduceByKey(lambda a, b: a + b)\n",
        "print(count.collect())"
      ],
      "execution_count": 14,
      "outputs": [
        {
          "output_type": "stream",
          "text": [
            "[('One', 1), ('Two', 2), ('Three', 3)]\n"
          ],
          "name": "stdout"
        }
      ]
    },
    {
      "cell_type": "markdown",
      "metadata": {
        "id": "jLEEl74Oz9CF"
      },
      "source": [
        "Spark Dataframe"
      ]
    },
    {
      "cell_type": "code",
      "metadata": {
        "colab": {
          "base_uri": "https://localhost:8080/"
        },
        "id": "WULEx1u-z-ZV",
        "outputId": "fd639d09-ddb7-423a-89c7-b59a8b9c2209"
      },
      "source": [
        "import pyspark\n",
        "from pyspark import SparkConf, SparkContext\n",
        "from pyspark.sql import SparkSession\n",
        "import collections\n",
        "conf = SparkSession.builder.master(\"local[2]\").appName(\"SparkDataframe\").getOrCreate()\n",
        "dataSet = [('51800105', 'Truong Minh Quang', 'Nam', 'CNTT'),\n",
        "           ('51800035', 'Pham Gia Han', 'Nu', 'CNTT'),\n",
        "           ('51800147', 'Nguyen Vat Dat', 'Nam', 'CNTT'),\n",
        "           ('01900532', 'Ly Hoang Long', 'Nam', 'QTKD')]\n",
        "df = conf.createDataFrame(data = dataSet, schema = ['MSSV', 'Ho Ten', 'Gioi Tinh', 'Nganh'])\n",
        "df.show()"
      ],
      "execution_count": 15,
      "outputs": [
        {
          "output_type": "stream",
          "text": [
            "+--------+-----------------+---------+-----+\n",
            "|    MSSV|           Ho Ten|Gioi Tinh|Nganh|\n",
            "+--------+-----------------+---------+-----+\n",
            "|51800105|Truong Minh Quang|      Nam| CNTT|\n",
            "|51800035|     Pham Gia Han|       Nu| CNTT|\n",
            "|51800147|   Nguyen Vat Dat|      Nam| CNTT|\n",
            "|01900532|    Ly Hoang Long|      Nam| QTKD|\n",
            "+--------+-----------------+---------+-----+\n",
            "\n"
          ],
          "name": "stdout"
        }
      ]
    },
    {
      "cell_type": "code",
      "metadata": {
        "colab": {
          "base_uri": "https://localhost:8080/"
        },
        "id": "O581qTbE2Eex",
        "outputId": "37798feb-f136-4d5e-9fe6-ee8b2a3d0916"
      },
      "source": [
        "df.printSchema() #In ra các cột có trong dataframe và kiểu dữ liệu từng cột\n",
        "df.select('MSSV', 'Ho Ten').show() #Show các dữ liệu trong các cột được chọn\n",
        "df.describe().show() #Thống kê tóm tắt các cột\n"
      ],
      "execution_count": 20,
      "outputs": [
        {
          "output_type": "stream",
          "text": [
            "root\n",
            " |-- MSSV: string (nullable = true)\n",
            " |-- Ho Ten: string (nullable = true)\n",
            " |-- Gioi Tinh: string (nullable = true)\n",
            " |-- Nganh: string (nullable = true)\n",
            "\n",
            "+--------+-----------------+\n",
            "|    MSSV|           Ho Ten|\n",
            "+--------+-----------------+\n",
            "|51800105|Truong Minh Quang|\n",
            "|51800035|     Pham Gia Han|\n",
            "|51800147|   Nguyen Vat Dat|\n",
            "|01900532|    Ly Hoang Long|\n",
            "+--------+-----------------+\n",
            "\n",
            "+-------+--------------------+-----------------+---------+-----+\n",
            "|summary|                MSSV|           Ho Ten|Gioi Tinh|Nganh|\n",
            "+-------+--------------------+-----------------+---------+-----+\n",
            "|  count|                   4|                4|        4|    4|\n",
            "|   mean|       3.932520475E7|             null|     null| null|\n",
            "| stddev|2.4949781833376102E7|             null|     null| null|\n",
            "|    min|            01900532|    Ly Hoang Long|      Nam| CNTT|\n",
            "|    max|            51800147|Truong Minh Quang|       Nu| QTKD|\n",
            "+-------+--------------------+-----------------+---------+-----+\n",
            "\n"
          ],
          "name": "stdout"
        }
      ]
    },
    {
      "cell_type": "code",
      "metadata": {
        "colab": {
          "base_uri": "https://localhost:8080/"
        },
        "id": "55nj2QRB3Nfg",
        "outputId": "b01a536a-628d-4131-bcaf-dd8ebcecda3f"
      },
      "source": [
        "import pyspark\n",
        "from pyspark import SparkConf, SparkContext\n",
        "from pyspark.sql import SparkSession\n",
        "import collections\n",
        "ss = SparkSession.builder.master(\"local[2]\").appName(\"SparkDataframe\").getOrCreate()\n",
        "\n",
        "df = spark.read.csv(\"/content/iris.data\", inferSchema = True, header = True)\n",
        "df.show()"
      ],
      "execution_count": 21,
      "outputs": [
        {
          "output_type": "stream",
          "text": [
            "+---+---+---+---+-----------+\n",
            "|5.1|3.5|1.4|0.2|Iris-setosa|\n",
            "+---+---+---+---+-----------+\n",
            "|4.9|3.0|1.4|0.2|Iris-setosa|\n",
            "|4.7|3.2|1.3|0.2|Iris-setosa|\n",
            "|4.6|3.1|1.5|0.2|Iris-setosa|\n",
            "|5.0|3.6|1.4|0.2|Iris-setosa|\n",
            "|5.4|3.9|1.7|0.4|Iris-setosa|\n",
            "|4.6|3.4|1.4|0.3|Iris-setosa|\n",
            "|5.0|3.4|1.5|0.2|Iris-setosa|\n",
            "|4.4|2.9|1.4|0.2|Iris-setosa|\n",
            "|4.9|3.1|1.5|0.1|Iris-setosa|\n",
            "|5.4|3.7|1.5|0.2|Iris-setosa|\n",
            "|4.8|3.4|1.6|0.2|Iris-setosa|\n",
            "|4.8|3.0|1.4|0.1|Iris-setosa|\n",
            "|4.3|3.0|1.1|0.1|Iris-setosa|\n",
            "|5.8|4.0|1.2|0.2|Iris-setosa|\n",
            "|5.7|4.4|1.5|0.4|Iris-setosa|\n",
            "|5.4|3.9|1.3|0.4|Iris-setosa|\n",
            "|5.1|3.5|1.4|0.3|Iris-setosa|\n",
            "|5.7|3.8|1.7|0.3|Iris-setosa|\n",
            "|5.1|3.8|1.5|0.3|Iris-setosa|\n",
            "|5.4|3.4|1.7|0.2|Iris-setosa|\n",
            "+---+---+---+---+-----------+\n",
            "only showing top 20 rows\n",
            "\n"
          ],
          "name": "stdout"
        }
      ]
    },
    {
      "cell_type": "code",
      "metadata": {
        "colab": {
          "base_uri": "https://localhost:8080/"
        },
        "id": "3ZbITwnN3nIh",
        "outputId": "8a0bbda4-0d37-4a2a-f709-08ea8e1a098e"
      },
      "source": [
        "df.printSchema()\n",
        "df.select('Iris-setosa').show()\n",
        "df.describe('Iris-setosa').show()"
      ],
      "execution_count": 34,
      "outputs": [
        {
          "output_type": "stream",
          "text": [
            "root\n",
            " |-- 5.1: double (nullable = true)\n",
            " |-- 3.5: double (nullable = true)\n",
            " |-- 1.4: double (nullable = true)\n",
            " |-- 0.2: double (nullable = true)\n",
            " |-- Iris-setosa: string (nullable = true)\n",
            "\n",
            "+-----------+\n",
            "|Iris-setosa|\n",
            "+-----------+\n",
            "|Iris-setosa|\n",
            "|Iris-setosa|\n",
            "|Iris-setosa|\n",
            "|Iris-setosa|\n",
            "|Iris-setosa|\n",
            "|Iris-setosa|\n",
            "|Iris-setosa|\n",
            "|Iris-setosa|\n",
            "|Iris-setosa|\n",
            "|Iris-setosa|\n",
            "|Iris-setosa|\n",
            "|Iris-setosa|\n",
            "|Iris-setosa|\n",
            "|Iris-setosa|\n",
            "|Iris-setosa|\n",
            "|Iris-setosa|\n",
            "|Iris-setosa|\n",
            "|Iris-setosa|\n",
            "|Iris-setosa|\n",
            "|Iris-setosa|\n",
            "+-----------+\n",
            "only showing top 20 rows\n",
            "\n",
            "+-------+--------------+\n",
            "|summary|   Iris-setosa|\n",
            "+-------+--------------+\n",
            "|  count|           149|\n",
            "|   mean|          null|\n",
            "| stddev|          null|\n",
            "|    min|   Iris-setosa|\n",
            "|    max|Iris-virginica|\n",
            "+-------+--------------+\n",
            "\n"
          ],
          "name": "stdout"
        }
      ]
    }
  ]
}